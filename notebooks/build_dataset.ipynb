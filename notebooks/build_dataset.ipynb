{
 "cells": [
  {
   "cell_type": "code",
   "execution_count": null,
   "outputs": [],
   "source": [
    "#TODO\n",
    "create requirements\n",
    "add fear and greed index copyright"
   ],
   "metadata": {
    "collapsed": false,
    "pycharm": {
     "name": "#%%\n"
    }
   }
  },
  {
   "cell_type": "code",
   "execution_count": 24,
   "outputs": [],
   "source": [
    "import requests\n",
    "\n",
    "import pandas as pd"
   ],
   "metadata": {
    "collapsed": false,
    "pycharm": {
     "name": "#%%\n"
    }
   }
  },
  {
   "cell_type": "code",
   "execution_count": 38,
   "outputs": [],
   "source": [
    "# take fear & greed index\n",
    "url = 'https://api.alternative.me/fng/?limit=1000&date_format=world'\n",
    "r = requests.get(url)"
   ],
   "metadata": {
    "collapsed": false,
    "pycharm": {
     "name": "#%%\n"
    }
   }
  },
  {
   "cell_type": "code",
   "execution_count": 39,
   "outputs": [
    {
     "data": {
      "text/plain": "    value value_classification   timestamp time_until_update\n0      23         Extreme Fear  20-09-2022       -1663584523\n1      21         Extreme Fear  19-09-2022               NaN\n2      27                 Fear  18-09-2022               NaN\n3      22         Extreme Fear  17-09-2022               NaN\n4      20         Extreme Fear  16-09-2022               NaN\n..    ...                  ...         ...               ...\n995    40                 Fear  30-12-2019               NaN\n996    37                 Fear  29-12-2019               NaN\n997    37                 Fear  28-12-2019               NaN\n998    38                 Fear  27-12-2019               NaN\n999    39                 Fear  26-12-2019               NaN\n\n[1000 rows x 4 columns]",
      "text/html": "<div>\n<style scoped>\n    .dataframe tbody tr th:only-of-type {\n        vertical-align: middle;\n    }\n\n    .dataframe tbody tr th {\n        vertical-align: top;\n    }\n\n    .dataframe thead th {\n        text-align: right;\n    }\n</style>\n<table border=\"1\" class=\"dataframe\">\n  <thead>\n    <tr style=\"text-align: right;\">\n      <th></th>\n      <th>value</th>\n      <th>value_classification</th>\n      <th>timestamp</th>\n      <th>time_until_update</th>\n    </tr>\n  </thead>\n  <tbody>\n    <tr>\n      <th>0</th>\n      <td>23</td>\n      <td>Extreme Fear</td>\n      <td>20-09-2022</td>\n      <td>-1663584523</td>\n    </tr>\n    <tr>\n      <th>1</th>\n      <td>21</td>\n      <td>Extreme Fear</td>\n      <td>19-09-2022</td>\n      <td>NaN</td>\n    </tr>\n    <tr>\n      <th>2</th>\n      <td>27</td>\n      <td>Fear</td>\n      <td>18-09-2022</td>\n      <td>NaN</td>\n    </tr>\n    <tr>\n      <th>3</th>\n      <td>22</td>\n      <td>Extreme Fear</td>\n      <td>17-09-2022</td>\n      <td>NaN</td>\n    </tr>\n    <tr>\n      <th>4</th>\n      <td>20</td>\n      <td>Extreme Fear</td>\n      <td>16-09-2022</td>\n      <td>NaN</td>\n    </tr>\n    <tr>\n      <th>...</th>\n      <td>...</td>\n      <td>...</td>\n      <td>...</td>\n      <td>...</td>\n    </tr>\n    <tr>\n      <th>995</th>\n      <td>40</td>\n      <td>Fear</td>\n      <td>30-12-2019</td>\n      <td>NaN</td>\n    </tr>\n    <tr>\n      <th>996</th>\n      <td>37</td>\n      <td>Fear</td>\n      <td>29-12-2019</td>\n      <td>NaN</td>\n    </tr>\n    <tr>\n      <th>997</th>\n      <td>37</td>\n      <td>Fear</td>\n      <td>28-12-2019</td>\n      <td>NaN</td>\n    </tr>\n    <tr>\n      <th>998</th>\n      <td>38</td>\n      <td>Fear</td>\n      <td>27-12-2019</td>\n      <td>NaN</td>\n    </tr>\n    <tr>\n      <th>999</th>\n      <td>39</td>\n      <td>Fear</td>\n      <td>26-12-2019</td>\n      <td>NaN</td>\n    </tr>\n  </tbody>\n</table>\n<p>1000 rows × 4 columns</p>\n</div>"
     },
     "execution_count": 39,
     "metadata": {},
     "output_type": "execute_result"
    }
   ],
   "source": [
    "df = pd.DataFrame(r.json()['data'])\n",
    "df"
   ],
   "metadata": {
    "collapsed": false,
    "pycharm": {
     "name": "#%%\n"
    }
   }
  }
 ],
 "metadata": {
  "kernelspec": {
   "display_name": "Python 3",
   "language": "python",
   "name": "python3"
  },
  "language_info": {
   "codemirror_mode": {
    "name": "ipython",
    "version": 2
   },
   "file_extension": ".py",
   "mimetype": "text/x-python",
   "name": "python",
   "nbconvert_exporter": "python",
   "pygments_lexer": "ipython2",
   "version": "2.7.6"
  }
 },
 "nbformat": 4,
 "nbformat_minor": 0
}